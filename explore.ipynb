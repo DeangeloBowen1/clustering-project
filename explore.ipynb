{
 "cells": [
  {
   "cell_type": "code",
   "execution_count": 1,
   "id": "803e5a7f",
   "metadata": {},
   "outputs": [],
   "source": [
    "#Ignore warnings\n",
    "import warnings\n",
    "warnings.filterwarnings(\"ignore\")\n",
    "\n",
    "import math\n",
    "import numpy as np\n",
    "import pandas as pd\n",
    "\n",
    "from sklearn.model_selection import train_test_split\n",
    "from sklearn.impute import SimpleImputer\n",
    "\n",
    "import scipy.stats as stats\n",
    "\n",
    "import matplotlib.pyplot as plt \n",
    "import seaborn as sns\n",
    "\n",
    "import wrangle as wr"
   ]
  },
  {
   "cell_type": "markdown",
   "id": "31dda7e9",
   "metadata": {},
   "source": [
    "---"
   ]
  },
  {
   "cell_type": "markdown",
   "id": "6f6e9e44",
   "metadata": {},
   "source": [
    "# Acquire Data:"
   ]
  },
  {
   "cell_type": "code",
   "execution_count": 2,
   "id": "336357b8",
   "metadata": {
    "scrolled": true
   },
   "outputs": [],
   "source": [
    "train, validate, test = wr.wrangle_zillow()"
   ]
  },
  {
   "cell_type": "code",
   "execution_count": 3,
   "id": "8c2f9064",
   "metadata": {},
   "outputs": [
    {
     "data": {
      "text/plain": [
       "((40064, 34), (17171, 34), (14309, 34))"
      ]
     },
     "execution_count": 3,
     "metadata": {},
     "output_type": "execute_result"
    }
   ],
   "source": [
    "train.shape, validate.shape, test.shape"
   ]
  },
  {
   "cell_type": "code",
   "execution_count": 4,
   "id": "bd4796d3",
   "metadata": {
    "scrolled": true
   },
   "outputs": [
    {
     "data": {
      "text/html": [
       "<div>\n",
       "<style scoped>\n",
       "    .dataframe tbody tr th:only-of-type {\n",
       "        vertical-align: middle;\n",
       "    }\n",
       "\n",
       "    .dataframe tbody tr th {\n",
       "        vertical-align: top;\n",
       "    }\n",
       "\n",
       "    .dataframe thead th {\n",
       "        text-align: right;\n",
       "    }\n",
       "</style>\n",
       "<table border=\"1\" class=\"dataframe\">\n",
       "  <thead>\n",
       "    <tr style=\"text-align: right;\">\n",
       "      <th></th>\n",
       "      <th>id</th>\n",
       "      <th>parcelid</th>\n",
       "      <th>bathroomcnt</th>\n",
       "      <th>bedroomcnt</th>\n",
       "      <th>buildingqualitytypeid</th>\n",
       "      <th>calculatedbathnbr</th>\n",
       "      <th>calculatedfinishedsquarefeet</th>\n",
       "      <th>finishedsquarefeet12</th>\n",
       "      <th>fips</th>\n",
       "      <th>fullbathcnt</th>\n",
       "      <th>...</th>\n",
       "      <th>structuretaxvaluedollarcnt</th>\n",
       "      <th>taxvaluedollarcnt</th>\n",
       "      <th>assessmentyear</th>\n",
       "      <th>landtaxvaluedollarcnt</th>\n",
       "      <th>taxamount</th>\n",
       "      <th>censustractandblock</th>\n",
       "      <th>logerror</th>\n",
       "      <th>transactiondate</th>\n",
       "      <th>heatingorsystemdesc</th>\n",
       "      <th>propertylandusedesc</th>\n",
       "    </tr>\n",
       "  </thead>\n",
       "  <tbody>\n",
       "    <tr>\n",
       "      <th>62924</th>\n",
       "      <td>2806823</td>\n",
       "      <td>11317340</td>\n",
       "      <td>2.0</td>\n",
       "      <td>4.0</td>\n",
       "      <td>6.0</td>\n",
       "      <td>2.0</td>\n",
       "      <td>1860.0</td>\n",
       "      <td>1860.0</td>\n",
       "      <td>6037.0</td>\n",
       "      <td>2.0</td>\n",
       "      <td>...</td>\n",
       "      <td>127127.0</td>\n",
       "      <td>157578.0</td>\n",
       "      <td>2016.0</td>\n",
       "      <td>30451.0</td>\n",
       "      <td>2755.87</td>\n",
       "      <td>6.037901e+13</td>\n",
       "      <td>0.030870</td>\n",
       "      <td>2017-08-01</td>\n",
       "      <td>Central</td>\n",
       "      <td>Single Family Residential</td>\n",
       "    </tr>\n",
       "    <tr>\n",
       "      <th>2686</th>\n",
       "      <td>2192094</td>\n",
       "      <td>12965175</td>\n",
       "      <td>4.0</td>\n",
       "      <td>3.0</td>\n",
       "      <td>8.0</td>\n",
       "      <td>4.0</td>\n",
       "      <td>1910.0</td>\n",
       "      <td>1910.0</td>\n",
       "      <td>6037.0</td>\n",
       "      <td>4.0</td>\n",
       "      <td>...</td>\n",
       "      <td>253705.0</td>\n",
       "      <td>667918.0</td>\n",
       "      <td>2016.0</td>\n",
       "      <td>414213.0</td>\n",
       "      <td>8704.21</td>\n",
       "      <td>6.037621e+13</td>\n",
       "      <td>0.021421</td>\n",
       "      <td>2017-01-12</td>\n",
       "      <td>Central</td>\n",
       "      <td>Condominium</td>\n",
       "    </tr>\n",
       "    <tr>\n",
       "      <th>35780</th>\n",
       "      <td>64334</td>\n",
       "      <td>11703478</td>\n",
       "      <td>1.0</td>\n",
       "      <td>3.0</td>\n",
       "      <td>6.0</td>\n",
       "      <td>1.0</td>\n",
       "      <td>1822.0</td>\n",
       "      <td>1822.0</td>\n",
       "      <td>6037.0</td>\n",
       "      <td>1.0</td>\n",
       "      <td>...</td>\n",
       "      <td>17787.0</td>\n",
       "      <td>40542.0</td>\n",
       "      <td>2016.0</td>\n",
       "      <td>22755.0</td>\n",
       "      <td>627.91</td>\n",
       "      <td>6.037232e+13</td>\n",
       "      <td>-0.325563</td>\n",
       "      <td>2017-05-12</td>\n",
       "      <td>Central</td>\n",
       "      <td>Single Family Residential</td>\n",
       "    </tr>\n",
       "    <tr>\n",
       "      <th>14782</th>\n",
       "      <td>1744938</td>\n",
       "      <td>10931831</td>\n",
       "      <td>3.0</td>\n",
       "      <td>2.0</td>\n",
       "      <td>8.0</td>\n",
       "      <td>3.0</td>\n",
       "      <td>1480.0</td>\n",
       "      <td>1480.0</td>\n",
       "      <td>6037.0</td>\n",
       "      <td>3.0</td>\n",
       "      <td>...</td>\n",
       "      <td>200660.0</td>\n",
       "      <td>473304.0</td>\n",
       "      <td>2016.0</td>\n",
       "      <td>272644.0</td>\n",
       "      <td>5682.71</td>\n",
       "      <td>6.037143e+13</td>\n",
       "      <td>0.009975</td>\n",
       "      <td>2017-03-06</td>\n",
       "      <td>Central</td>\n",
       "      <td>Condominium</td>\n",
       "    </tr>\n",
       "    <tr>\n",
       "      <th>27632</th>\n",
       "      <td>1643700</td>\n",
       "      <td>11181835</td>\n",
       "      <td>2.0</td>\n",
       "      <td>3.0</td>\n",
       "      <td>4.0</td>\n",
       "      <td>2.0</td>\n",
       "      <td>1370.0</td>\n",
       "      <td>1370.0</td>\n",
       "      <td>6037.0</td>\n",
       "      <td>2.0</td>\n",
       "      <td>...</td>\n",
       "      <td>43628.0</td>\n",
       "      <td>66954.0</td>\n",
       "      <td>2016.0</td>\n",
       "      <td>23326.0</td>\n",
       "      <td>918.71</td>\n",
       "      <td>6.037910e+13</td>\n",
       "      <td>0.010471</td>\n",
       "      <td>2017-04-19</td>\n",
       "      <td>Central</td>\n",
       "      <td>Single Family Residential</td>\n",
       "    </tr>\n",
       "  </tbody>\n",
       "</table>\n",
       "<p>5 rows × 34 columns</p>\n",
       "</div>"
      ],
      "text/plain": [
       "            id  parcelid  bathroomcnt  bedroomcnt  buildingqualitytypeid  \\\n",
       "62924  2806823  11317340          2.0         4.0                    6.0   \n",
       "2686   2192094  12965175          4.0         3.0                    8.0   \n",
       "35780    64334  11703478          1.0         3.0                    6.0   \n",
       "14782  1744938  10931831          3.0         2.0                    8.0   \n",
       "27632  1643700  11181835          2.0         3.0                    4.0   \n",
       "\n",
       "       calculatedbathnbr  calculatedfinishedsquarefeet  finishedsquarefeet12  \\\n",
       "62924                2.0                        1860.0                1860.0   \n",
       "2686                 4.0                        1910.0                1910.0   \n",
       "35780                1.0                        1822.0                1822.0   \n",
       "14782                3.0                        1480.0                1480.0   \n",
       "27632                2.0                        1370.0                1370.0   \n",
       "\n",
       "         fips  fullbathcnt  ...  structuretaxvaluedollarcnt  \\\n",
       "62924  6037.0          2.0  ...                    127127.0   \n",
       "2686   6037.0          4.0  ...                    253705.0   \n",
       "35780  6037.0          1.0  ...                     17787.0   \n",
       "14782  6037.0          3.0  ...                    200660.0   \n",
       "27632  6037.0          2.0  ...                     43628.0   \n",
       "\n",
       "       taxvaluedollarcnt  assessmentyear  landtaxvaluedollarcnt taxamount  \\\n",
       "62924           157578.0          2016.0                30451.0   2755.87   \n",
       "2686            667918.0          2016.0               414213.0   8704.21   \n",
       "35780            40542.0          2016.0                22755.0    627.91   \n",
       "14782           473304.0          2016.0               272644.0   5682.71   \n",
       "27632            66954.0          2016.0                23326.0    918.71   \n",
       "\n",
       "       censustractandblock  logerror  transactiondate  heatingorsystemdesc  \\\n",
       "62924         6.037901e+13  0.030870       2017-08-01              Central   \n",
       "2686          6.037621e+13  0.021421       2017-01-12              Central   \n",
       "35780         6.037232e+13 -0.325563       2017-05-12              Central   \n",
       "14782         6.037143e+13  0.009975       2017-03-06              Central   \n",
       "27632         6.037910e+13  0.010471       2017-04-19              Central   \n",
       "\n",
       "             propertylandusedesc  \n",
       "62924  Single Family Residential  \n",
       "2686                 Condominium  \n",
       "35780  Single Family Residential  \n",
       "14782                Condominium  \n",
       "27632  Single Family Residential  \n",
       "\n",
       "[5 rows x 34 columns]"
      ]
     },
     "execution_count": 4,
     "metadata": {},
     "output_type": "execute_result"
    }
   ],
   "source": [
    "train.head()"
   ]
  },
  {
   "cell_type": "code",
   "execution_count": 6,
   "id": "2083672b",
   "metadata": {},
   "outputs": [
    {
     "name": "stdout",
     "output_type": "stream",
     "text": [
      "<class 'pandas.core.frame.DataFrame'>\n",
      "Int64Index: 40064 entries, 62924 to 59940\n",
      "Data columns (total 34 columns):\n",
      " #   Column                        Non-Null Count  Dtype  \n",
      "---  ------                        --------------  -----  \n",
      " 0   id                            40064 non-null  int64  \n",
      " 1   parcelid                      40064 non-null  int64  \n",
      " 2   bathroomcnt                   40064 non-null  float64\n",
      " 3   bedroomcnt                    40064 non-null  float64\n",
      " 4   buildingqualitytypeid         24997 non-null  float64\n",
      " 5   calculatedbathnbr             40064 non-null  float64\n",
      " 6   calculatedfinishedsquarefeet  40064 non-null  float64\n",
      " 7   finishedsquarefeet12          40064 non-null  float64\n",
      " 8   fips                          40064 non-null  float64\n",
      " 9   fullbathcnt                   40064 non-null  float64\n",
      " 10  heatingorsystemtypeid         25964 non-null  float64\n",
      " 11  latitude                      40064 non-null  float64\n",
      " 12  longitude                     40064 non-null  float64\n",
      " 13  lotsizesquarefeet             35510 non-null  float64\n",
      " 14  propertycountylandusecode     40064 non-null  object \n",
      " 15  propertylandusetypeid         40064 non-null  float64\n",
      " 16  propertyzoningdesc            25215 non-null  object \n",
      " 17  rawcensustractandblock        40064 non-null  float64\n",
      " 18  regionidcity                  40064 non-null  float64\n",
      " 19  regionidcounty                40064 non-null  float64\n",
      " 20  regionidzip                   40064 non-null  float64\n",
      " 21  roomcnt                       40064 non-null  float64\n",
      " 22  unitcnt                       25218 non-null  float64\n",
      " 23  yearbuilt                     40064 non-null  float64\n",
      " 24  structuretaxvaluedollarcnt    40064 non-null  float64\n",
      " 25  taxvaluedollarcnt             40064 non-null  float64\n",
      " 26  assessmentyear                40064 non-null  float64\n",
      " 27  landtaxvaluedollarcnt         40064 non-null  float64\n",
      " 28  taxamount                     40064 non-null  float64\n",
      " 29  censustractandblock           40064 non-null  float64\n",
      " 30  logerror                      40064 non-null  float64\n",
      " 31  transactiondate               40064 non-null  object \n",
      " 32  heatingorsystemdesc           25964 non-null  object \n",
      " 33  propertylandusedesc           40064 non-null  object \n",
      "dtypes: float64(27), int64(2), object(5)\n",
      "memory usage: 10.7+ MB\n"
     ]
    }
   ],
   "source": [
    "train.info()"
   ]
  },
  {
   "cell_type": "code",
   "execution_count": 5,
   "id": "fb382e82",
   "metadata": {},
   "outputs": [
    {
     "data": {
      "text/plain": [
       "Single Family Residential    29312\n",
       "Condominium                  10715\n",
       "Mobile Home                     34\n",
       "Townhouse                        3\n",
       "Name: propertylandusedesc, dtype: int64"
      ]
     },
     "execution_count": 5,
     "metadata": {},
     "output_type": "execute_result"
    }
   ],
   "source": [
    "# verifying single unit property land types\n",
    "train.propertylandusedesc.value_counts()"
   ]
  },
  {
   "cell_type": "markdown",
   "id": "5570bb7c",
   "metadata": {},
   "source": [
    "# Exercises\n",
    "\n",
    "Sourcing the Zillow database as the data source, create a jupyter notebook named explore_zillow and do the following:\n",
    "\n",
    "#### Ask at least 5 questions about the data, keeping in mind that your target variable is logerror. \n",
    "- e.g. Is logerror significantly different for properties in LA County vs Orange County vs Ventura County?"
   ]
  },
  {
   "cell_type": "markdown",
   "id": "40856655",
   "metadata": {},
   "source": [
    "### Questions :\n",
    "- Is log error significantly different per number of bathrooms?\n",
    "- Is log error significantly different per number of bedrooms?\n",
    "- Is log error significantly different per average sqaure feet in LA vs Orange vs Ventura? \n",
    "- Is log error significantly different per age of a home? \n",
    "- Is log error significantly different depending on the type of property. "
   ]
  },
  {
   "cell_type": "markdown",
   "id": "50245e6d",
   "metadata": {},
   "source": [
    "To answer these questions, I will make a dataframe from train that only contains the neccessary columns."
   ]
  },
  {
   "cell_type": "code",
   "execution_count": 40,
   "id": "9dad3125",
   "metadata": {},
   "outputs": [],
   "source": [
    "# select columns for that may be able to answer these specific\n",
    "# set of questions\n",
    "logerror_df = train[['parcelid','logerror', 'bathroomcnt',\n",
    "                     'bedroomcnt', 'calculatedfinishedsquarefeet',\n",
    "                     'fips', 'yearbuilt', 'propertylandusedesc']]"
   ]
  },
  {
   "cell_type": "code",
   "execution_count": 41,
   "id": "df1968c6",
   "metadata": {},
   "outputs": [
    {
     "data": {
      "text/html": [
       "<div>\n",
       "<style scoped>\n",
       "    .dataframe tbody tr th:only-of-type {\n",
       "        vertical-align: middle;\n",
       "    }\n",
       "\n",
       "    .dataframe tbody tr th {\n",
       "        vertical-align: top;\n",
       "    }\n",
       "\n",
       "    .dataframe thead th {\n",
       "        text-align: right;\n",
       "    }\n",
       "</style>\n",
       "<table border=\"1\" class=\"dataframe\">\n",
       "  <thead>\n",
       "    <tr style=\"text-align: right;\">\n",
       "      <th></th>\n",
       "      <th>parcelid</th>\n",
       "      <th>logerror</th>\n",
       "      <th>bathroomcnt</th>\n",
       "      <th>bedroomcnt</th>\n",
       "      <th>calculatedfinishedsquarefeet</th>\n",
       "      <th>fips</th>\n",
       "      <th>yearbuilt</th>\n",
       "      <th>propertylandusedesc</th>\n",
       "    </tr>\n",
       "  </thead>\n",
       "  <tbody>\n",
       "    <tr>\n",
       "      <th>62924</th>\n",
       "      <td>11317340</td>\n",
       "      <td>0.030870</td>\n",
       "      <td>2.0</td>\n",
       "      <td>4.0</td>\n",
       "      <td>1860.0</td>\n",
       "      <td>6037.0</td>\n",
       "      <td>1998.0</td>\n",
       "      <td>Single Family Residential</td>\n",
       "    </tr>\n",
       "    <tr>\n",
       "      <th>2686</th>\n",
       "      <td>12965175</td>\n",
       "      <td>0.021421</td>\n",
       "      <td>4.0</td>\n",
       "      <td>3.0</td>\n",
       "      <td>1910.0</td>\n",
       "      <td>6037.0</td>\n",
       "      <td>2014.0</td>\n",
       "      <td>Condominium</td>\n",
       "    </tr>\n",
       "    <tr>\n",
       "      <th>35780</th>\n",
       "      <td>11703478</td>\n",
       "      <td>-0.325563</td>\n",
       "      <td>1.0</td>\n",
       "      <td>3.0</td>\n",
       "      <td>1822.0</td>\n",
       "      <td>6037.0</td>\n",
       "      <td>1912.0</td>\n",
       "      <td>Single Family Residential</td>\n",
       "    </tr>\n",
       "    <tr>\n",
       "      <th>14782</th>\n",
       "      <td>10931831</td>\n",
       "      <td>0.009975</td>\n",
       "      <td>3.0</td>\n",
       "      <td>2.0</td>\n",
       "      <td>1480.0</td>\n",
       "      <td>6037.0</td>\n",
       "      <td>2010.0</td>\n",
       "      <td>Condominium</td>\n",
       "    </tr>\n",
       "    <tr>\n",
       "      <th>27632</th>\n",
       "      <td>11181835</td>\n",
       "      <td>0.010471</td>\n",
       "      <td>2.0</td>\n",
       "      <td>3.0</td>\n",
       "      <td>1370.0</td>\n",
       "      <td>6037.0</td>\n",
       "      <td>1954.0</td>\n",
       "      <td>Single Family Residential</td>\n",
       "    </tr>\n",
       "  </tbody>\n",
       "</table>\n",
       "</div>"
      ],
      "text/plain": [
       "       parcelid  logerror  bathroomcnt  bedroomcnt  \\\n",
       "62924  11317340  0.030870          2.0         4.0   \n",
       "2686   12965175  0.021421          4.0         3.0   \n",
       "35780  11703478 -0.325563          1.0         3.0   \n",
       "14782  10931831  0.009975          3.0         2.0   \n",
       "27632  11181835  0.010471          2.0         3.0   \n",
       "\n",
       "       calculatedfinishedsquarefeet    fips  yearbuilt  \\\n",
       "62924                        1860.0  6037.0     1998.0   \n",
       "2686                         1910.0  6037.0     2014.0   \n",
       "35780                        1822.0  6037.0     1912.0   \n",
       "14782                        1480.0  6037.0     2010.0   \n",
       "27632                        1370.0  6037.0     1954.0   \n",
       "\n",
       "             propertylandusedesc  \n",
       "62924  Single Family Residential  \n",
       "2686                 Condominium  \n",
       "35780  Single Family Residential  \n",
       "14782                Condominium  \n",
       "27632  Single Family Residential  "
      ]
     },
     "execution_count": 41,
     "metadata": {},
     "output_type": "execute_result"
    }
   ],
   "source": [
    "# pre-tidy\n",
    "logerror_df.head()"
   ]
  },
  {
   "cell_type": "code",
   "execution_count": 42,
   "id": "1373a603",
   "metadata": {},
   "outputs": [],
   "source": [
    "# Tidy the dataframe a bit\n",
    "logerror_df = logerror_df.rename(columns={'bathroomcnt':'bathrooms', \n",
    "                                          'bedroomcnt':'bedrooms',\n",
    "                                          'calculatedfinishedsquarefeet':'sqaure_feet',\n",
    "                                          'fips':'county', 'yearbuilt':'year_built', \n",
    "                                          'propertylandusedesc':'property_type'})\n",
    "\n",
    "\n",
    "county = {6037:'Los Angeles', 6059:'Orange', 6111:'Ventura'}\n",
    "logerror_df.county = logerror_df.county.map(county)\n",
    "\n",
    "logerror_df.bedrooms = logerror_df.bedrooms.astype(int)\n",
    "logerror_df.bathrooms = logerror_df.bathrooms.astype(int)\n",
    "logerror_df.sqaure_feet = logerror_df.sqaure_feet.astype(int)\n",
    "logerror_df.year_built = logerror_df.year_built.astype(int)"
   ]
  },
  {
   "cell_type": "code",
   "execution_count": 43,
   "id": "13817510",
   "metadata": {
    "scrolled": true
   },
   "outputs": [
    {
     "data": {
      "text/html": [
       "<div>\n",
       "<style scoped>\n",
       "    .dataframe tbody tr th:only-of-type {\n",
       "        vertical-align: middle;\n",
       "    }\n",
       "\n",
       "    .dataframe tbody tr th {\n",
       "        vertical-align: top;\n",
       "    }\n",
       "\n",
       "    .dataframe thead th {\n",
       "        text-align: right;\n",
       "    }\n",
       "</style>\n",
       "<table border=\"1\" class=\"dataframe\">\n",
       "  <thead>\n",
       "    <tr style=\"text-align: right;\">\n",
       "      <th></th>\n",
       "      <th>parcelid</th>\n",
       "      <th>logerror</th>\n",
       "      <th>bathrooms</th>\n",
       "      <th>bedrooms</th>\n",
       "      <th>sqaure_feet</th>\n",
       "      <th>county</th>\n",
       "      <th>year_built</th>\n",
       "      <th>property_type</th>\n",
       "    </tr>\n",
       "  </thead>\n",
       "  <tbody>\n",
       "    <tr>\n",
       "      <th>62924</th>\n",
       "      <td>11317340</td>\n",
       "      <td>0.030870</td>\n",
       "      <td>2</td>\n",
       "      <td>4</td>\n",
       "      <td>1860</td>\n",
       "      <td>Los Angeles</td>\n",
       "      <td>1998</td>\n",
       "      <td>Single Family Residential</td>\n",
       "    </tr>\n",
       "    <tr>\n",
       "      <th>2686</th>\n",
       "      <td>12965175</td>\n",
       "      <td>0.021421</td>\n",
       "      <td>4</td>\n",
       "      <td>3</td>\n",
       "      <td>1910</td>\n",
       "      <td>Los Angeles</td>\n",
       "      <td>2014</td>\n",
       "      <td>Condominium</td>\n",
       "    </tr>\n",
       "    <tr>\n",
       "      <th>35780</th>\n",
       "      <td>11703478</td>\n",
       "      <td>-0.325563</td>\n",
       "      <td>1</td>\n",
       "      <td>3</td>\n",
       "      <td>1822</td>\n",
       "      <td>Los Angeles</td>\n",
       "      <td>1912</td>\n",
       "      <td>Single Family Residential</td>\n",
       "    </tr>\n",
       "    <tr>\n",
       "      <th>14782</th>\n",
       "      <td>10931831</td>\n",
       "      <td>0.009975</td>\n",
       "      <td>3</td>\n",
       "      <td>2</td>\n",
       "      <td>1480</td>\n",
       "      <td>Los Angeles</td>\n",
       "      <td>2010</td>\n",
       "      <td>Condominium</td>\n",
       "    </tr>\n",
       "    <tr>\n",
       "      <th>27632</th>\n",
       "      <td>11181835</td>\n",
       "      <td>0.010471</td>\n",
       "      <td>2</td>\n",
       "      <td>3</td>\n",
       "      <td>1370</td>\n",
       "      <td>Los Angeles</td>\n",
       "      <td>1954</td>\n",
       "      <td>Single Family Residential</td>\n",
       "    </tr>\n",
       "  </tbody>\n",
       "</table>\n",
       "</div>"
      ],
      "text/plain": [
       "       parcelid  logerror  bathrooms  bedrooms  sqaure_feet       county  \\\n",
       "62924  11317340  0.030870          2         4         1860  Los Angeles   \n",
       "2686   12965175  0.021421          4         3         1910  Los Angeles   \n",
       "35780  11703478 -0.325563          1         3         1822  Los Angeles   \n",
       "14782  10931831  0.009975          3         2         1480  Los Angeles   \n",
       "27632  11181835  0.010471          2         3         1370  Los Angeles   \n",
       "\n",
       "       year_built              property_type  \n",
       "62924        1998  Single Family Residential  \n",
       "2686         2014                Condominium  \n",
       "35780        1912  Single Family Residential  \n",
       "14782        2010                Condominium  \n",
       "27632        1954  Single Family Residential  "
      ]
     },
     "execution_count": 43,
     "metadata": {},
     "output_type": "execute_result"
    }
   ],
   "source": [
    "# post-tidy\n",
    "logerror_df.head()"
   ]
  },
  {
   "cell_type": "markdown",
   "id": "cd368874",
   "metadata": {},
   "source": [
    "---"
   ]
  },
  {
   "cell_type": "markdown",
   "id": "daa8f986",
   "metadata": {},
   "source": [
    "### Distribution of dataframe"
   ]
  },
  {
   "cell_type": "code",
   "execution_count": 45,
   "id": "a1029cc6",
   "metadata": {
    "scrolled": false
   },
   "outputs": [
    {
     "data": {
      "text/plain": [
       "<Figure size 720x576 with 0 Axes>"
      ]
     },
     "metadata": {},
     "output_type": "display_data"
    },
    {
     "data": {
      "image/png": "[encoded data removed]",
      "text/plain": [
       "<Figure size 360x360 with 1 Axes>"
      ]
     },
     "metadata": {
      "needs_background": "light"
     },
     "output_type": "display_data"
    },
    {
     "data": {
      "text/plain": [
       "<Figure size 720x576 with 0 Axes>"
      ]
     },
     "metadata": {},
     "output_type": "display_data"
    },
    {
     "data": {
      "image/png": "[encoded data removed]",
      "text/plain": [
       "<Figure size 360x360 with 1 Axes>"
      ]
     },
     "metadata": {
      "needs_background": "light"
     },
     "output_type": "display_data"
    },
    {
     "data": {
      "text/plain": [
       "<Figure size 720x576 with 0 Axes>"
      ]
     },
     "metadata": {},
     "output_type": "display_data"
    },
    {
     "data": {
      "image/png": "[encoded data removed]",
      "text/plain": [
       "<Figure size 360x360 with 1 Axes>"
      ]
     },
     "metadata": {
      "needs_background": "light"
     },
     "output_type": "display_data"
    },
    {
     "data": {
      "text/plain": [
       "<Figure size 720x576 with 0 Axes>"
      ]
     },
     "metadata": {},
     "output_type": "display_data"
    },
    {
     "data": {
      "image/png": "[encoded data removed]",
      "text/plain": [
       "<Figure size 360x360 with 1 Axes>"
      ]
     },
     "metadata": {
      "needs_background": "light"
     },
     "output_type": "display_data"
    },
    {
     "data": {
      "text/plain": [
       "<Figure size 720x576 with 0 Axes>"
      ]
     },
     "metadata": {},
     "output_type": "display_data"
    },
    {
     "data": {
      "image/png": "[encoded data removed]",
      "text/plain": [
       "<Figure size 360x360 with 1 Axes>"
      ]
     },
     "metadata": {
      "needs_background": "light"
     },
     "output_type": "display_data"
    },
    {
     "data": {
      "text/plain": [
       "<Figure size 720x576 with 0 Axes>"
      ]
     },
     "metadata": {},
     "output_type": "display_data"
    },
    {
     "data": {
      "image/png": "[encoded data removed]",
      "text/plain": [
       "<Figure size 360x360 with 1 Axes>"
      ]
     },
     "metadata": {
      "needs_background": "light"
     },
     "output_type": "display_data"
    }
   ],
   "source": [
    "columns = ['bathrooms','bedrooms', 'sqaure_feet', 'year_built',\n",
    "           'property_type', 'county' ]\n",
    "\n",
    "for col in columns:\n",
    "    plt.figure(figsize=(10,8))\n",
    "    sns.displot(data=logerror_df.sample(1000), x=col)"
   ]
  },
  {
   "cell_type": "markdown",
   "id": "8ea36812",
   "metadata": {},
   "source": [
    "---"
   ]
  },
  {
   "cell_type": "markdown",
   "id": "f0ed19d0",
   "metadata": {},
   "source": [
    "### Is log error significantly different per number of bathrooms?"
   ]
  },
  {
   "cell_type": "code",
   "execution_count": null,
   "id": "c728f930",
   "metadata": {},
   "outputs": [],
   "source": []
  }
 ],
 "metadata": {
  "kernelspec": {
   "display_name": "Python 3 (ipykernel)",
   "language": "python",
   "name": "python3"
  },
  "language_info": {
   "codemirror_mode": {
    "name": "ipython",
    "version": 3
   },
   "file_extension": ".py",
   "mimetype": "text/x-python",
   "name": "python",
   "nbconvert_exporter": "python",
   "pygments_lexer": "ipython3",
   "version": "3.9.7"
  }
 },
 "nbformat": 4,
 "nbformat_minor": 5
}
