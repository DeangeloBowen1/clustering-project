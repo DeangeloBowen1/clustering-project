{
 "cells": [
  {
   "cell_type": "markdown",
   "id": "72215d9c",
   "metadata": {},
   "source": [
    "# Predicting Logerror\n",
    "by: Deangelo Bowen"
   ]
  },
  {
   "cell_type": "markdown",
   "id": "a0e4ae68",
   "metadata": {},
   "source": [
    "---"
   ]
  },
  {
   "cell_type": "markdown",
   "id": "cd0fe0b5",
   "metadata": {},
   "source": [
    "## Project Overview and Goals:\n",
    "\n",
    "\n"
   ]
  },
  {
   "cell_type": "markdown",
   "id": "25e0278b",
   "metadata": {},
   "source": [
    "### Overview:"
   ]
  },
  {
   "cell_type": "markdown",
   "id": "22abb3ef",
   "metadata": {},
   "source": [
    "The focus of this project is to use the 2017 properties and predictions data for single unit / single family homes to  uncover what the drivers of the error in the zestimate is."
   ]
  },
  {
   "cell_type": "markdown",
   "id": "c4f52ef2",
   "metadata": {},
   "source": [
    "### Goals: "
   ]
  },
  {
   "cell_type": "markdown",
   "id": "c67f1719",
   "metadata": {},
   "source": [
    "- Construct a ML regression model with clustering techniques that can predict logerror for Single Unit/Family properties that had a transaction in 2017 using defining features for those properties. \n",
    "- Find the Key Drivers of that logerror\n",
    "- Make recommendations on what works or what doesn't work when predicting logerror."
   ]
  },
  {
   "cell_type": "markdown",
   "id": "21e383c0",
   "metadata": {},
   "source": [
    "### Executive Summary:\n",
    "\n",
    "#### When observing general home features such as bedrooms and bathrooms: \n",
    "   - There is some linear correlation between number of bedrooms and logerror.\n",
    "   - There is some linear correlation between number of bathrooms and logerror."
   ]
  },
  {
   "cell_type": "markdown",
   "id": "76150ae4",
   "metadata": {},
   "source": [
    "#### When controlling for county:\n",
    "   - There is a significant difference between Los Angeles Logerror and the population logerror.\n",
    "   - There is a significant difference between Ventura Logerror and population logerror.\n",
    "   - There is no significant difference, or no difference between Orange County Logerror and the population logerror."
   ]
  },
  {
   "cell_type": "markdown",
   "id": "7c6389cc",
   "metadata": {},
   "source": [
    "#### When observing age of property: \n",
    " - There is a linear correlation between the age of the property and logerror."
   ]
  },
  {
   "cell_type": "markdown",
   "id": "38d6621b",
   "metadata": {},
   "source": [
    "#### When controlling for property type:\n",
    "   - Townhomes and Mobile home data sample were too small to perform any meaningful statistical operations.\n",
    "   - No linear correlation between type single family residential's year built, and logerror.\n",
    "   - Strong postive linear correlation between the year condiminums were built and logerror. (P value .96)"
   ]
  },
  {
   "cell_type": "markdown",
   "id": "a32e53fa",
   "metadata": {},
   "source": [
    "##### I would recommend pursuing further identifications of key drivers for logerror to potentially construct better accurate predictors as none of the current models beat the baseline."
   ]
  },
  {
   "cell_type": "markdown",
   "id": "28d6bf4e",
   "metadata": {},
   "source": [
    "---"
   ]
  },
  {
   "cell_type": "markdown",
   "id": "374463ae",
   "metadata": {},
   "source": [
    "## Imports"
   ]
  },
  {
   "cell_type": "code",
   "execution_count": 1,
   "id": "c6e5590b",
   "metadata": {},
   "outputs": [],
   "source": [
    "#Ignore warnings\n",
    "import warnings\n",
    "warnings.filterwarnings(\"ignore\")\n",
    "\n",
    "#imports for user defined functions\n",
    "from env import host, user, password, get_db_url\n",
    "\n",
    "# Imports for arithmetic calculations and data frame manipulation\n",
    "import math\n",
    "import numpy as np\n",
    "import pandas as pd\n",
    "\n",
    "#imports for splitting data and imputing\n",
    "from sklearn.cluster import KMeans\n",
    "from sklearn.preprocessing import StandardScaler\n",
    "from sklearn.preprocessing import MinMaxScaler, StandardScaler, RobustScaler, QuantileTransformer\n",
    "from sklearn.metrics import mean_squared_error, r2_score\n",
    "from sklearn.feature_selection import f_regression \n",
    "from sklearn.model_selection import train_test_split\n",
    "from sklearn.impute import SimpleImputer\n",
    "from sklearn.cluster import KMeans\n",
    "\n",
    "from math import sqrt\n",
    "from sklearn.linear_model import LinearRegression, LassoLars, TweedieRegressor\n",
    "from sklearn.preprocessing import PolynomialFeatures\n",
    "\n",
    "#Imports for creating visualizations\n",
    "import matplotlib.pyplot as plt \n",
    "import seaborn as sns\n",
    "import scipy.stats as stats\n",
    "import statistics\n",
    "\n",
    "import viz\n",
    "\n",
    "from pydataset import data\n",
    "\n",
    "import wrangle as wr\n",
    "import explore as ex\n",
    "\n",
    "np.random.seed(4)\n",
    "\n",
    "# acquire zillow dataset from SQL server\n",
    "zillow = wr.acquire()"
   ]
  },
  {
   "cell_type": "markdown",
   "id": "28343462",
   "metadata": {},
   "source": [
    "---"
   ]
  },
  {
   "cell_type": "markdown",
   "id": "810d7d45",
   "metadata": {},
   "source": [
    "### Wrangling the Zillow dataset:"
   ]
  },
  {
   "cell_type": "markdown",
   "id": "b8803bda",
   "metadata": {},
   "source": [
    "## SQL : \n",
    "#### To acquire the needed features from the SQL server, I :\n",
    "> SELECT \n",
    "prop.*"
   ]
  },
  {
   "cell_type": "markdown",
   "id": "f86338fa",
   "metadata": {},
   "source": [
    "#### From properties_2017"
   ]
  },
  {
   "cell_type": "markdown",
   "id": "cb40baa6",
   "metadata": {},
   "source": [
    "> LEFT JOIN airconditioningtype air USING (airconditioningtypeid)"
   ]
  },
  {
   "cell_type": "markdown",
   "id": "5daa7c33",
   "metadata": {},
   "source": [
    "#### ....and many other features that can be found in the wrangle.py file."
   ]
  },
  {
   "cell_type": "markdown",
   "id": "0e91b5cc",
   "metadata": {},
   "source": [
    "---"
   ]
  },
  {
   "cell_type": "markdown",
   "id": "073773ca",
   "metadata": {},
   "source": [
    "### Looking at the observed DataFrame : "
   ]
  },
  {
   "cell_type": "code",
   "execution_count": 2,
   "id": "5a46f390",
   "metadata": {},
   "outputs": [
    {
     "data": {
      "text/html": [
       "<div>\n",
       "<style scoped>\n",
       "    .dataframe tbody tr th:only-of-type {\n",
       "        vertical-align: middle;\n",
       "    }\n",
       "\n",
       "    .dataframe tbody tr th {\n",
       "        vertical-align: top;\n",
       "    }\n",
       "\n",
       "    .dataframe thead th {\n",
       "        text-align: right;\n",
       "    }\n",
       "</style>\n",
       "<table border=\"1\" class=\"dataframe\">\n",
       "  <thead>\n",
       "    <tr style=\"text-align: right;\">\n",
       "      <th></th>\n",
       "      <th>id</th>\n",
       "      <th>parcelid</th>\n",
       "      <th>airconditioningtypeid</th>\n",
       "      <th>architecturalstyletypeid</th>\n",
       "      <th>basementsqft</th>\n",
       "      <th>bathroomcnt</th>\n",
       "      <th>bedroomcnt</th>\n",
       "      <th>buildingclasstypeid</th>\n",
       "      <th>buildingqualitytypeid</th>\n",
       "      <th>calculatedbathnbr</th>\n",
       "      <th>...</th>\n",
       "      <th>censustractandblock</th>\n",
       "      <th>logerror</th>\n",
       "      <th>transactiondate</th>\n",
       "      <th>airconditioningdesc</th>\n",
       "      <th>architecturalstyledesc</th>\n",
       "      <th>buildingclassdesc</th>\n",
       "      <th>heatingorsystemdesc</th>\n",
       "      <th>propertylandusedesc</th>\n",
       "      <th>storydesc</th>\n",
       "      <th>typeconstructiondesc</th>\n",
       "    </tr>\n",
       "  </thead>\n",
       "  <tbody>\n",
       "    <tr>\n",
       "      <th>0</th>\n",
       "      <td>1727539</td>\n",
       "      <td>14297519</td>\n",
       "      <td>NaN</td>\n",
       "      <td>NaN</td>\n",
       "      <td>NaN</td>\n",
       "      <td>3.5</td>\n",
       "      <td>4.0</td>\n",
       "      <td>NaN</td>\n",
       "      <td>NaN</td>\n",
       "      <td>3.5</td>\n",
       "      <td>...</td>\n",
       "      <td>6.059063e+13</td>\n",
       "      <td>0.025595</td>\n",
       "      <td>2017-01-01</td>\n",
       "      <td>NaN</td>\n",
       "      <td>NaN</td>\n",
       "      <td>NaN</td>\n",
       "      <td>NaN</td>\n",
       "      <td>Single Family Residential</td>\n",
       "      <td>NaN</td>\n",
       "      <td>NaN</td>\n",
       "    </tr>\n",
       "    <tr>\n",
       "      <th>1</th>\n",
       "      <td>1387261</td>\n",
       "      <td>17052889</td>\n",
       "      <td>NaN</td>\n",
       "      <td>NaN</td>\n",
       "      <td>NaN</td>\n",
       "      <td>1.0</td>\n",
       "      <td>2.0</td>\n",
       "      <td>NaN</td>\n",
       "      <td>NaN</td>\n",
       "      <td>1.0</td>\n",
       "      <td>...</td>\n",
       "      <td>6.111001e+13</td>\n",
       "      <td>0.055619</td>\n",
       "      <td>2017-01-01</td>\n",
       "      <td>NaN</td>\n",
       "      <td>NaN</td>\n",
       "      <td>NaN</td>\n",
       "      <td>NaN</td>\n",
       "      <td>Single Family Residential</td>\n",
       "      <td>NaN</td>\n",
       "      <td>NaN</td>\n",
       "    </tr>\n",
       "    <tr>\n",
       "      <th>2</th>\n",
       "      <td>11677</td>\n",
       "      <td>14186244</td>\n",
       "      <td>NaN</td>\n",
       "      <td>NaN</td>\n",
       "      <td>NaN</td>\n",
       "      <td>2.0</td>\n",
       "      <td>3.0</td>\n",
       "      <td>NaN</td>\n",
       "      <td>NaN</td>\n",
       "      <td>2.0</td>\n",
       "      <td>...</td>\n",
       "      <td>6.059022e+13</td>\n",
       "      <td>0.005383</td>\n",
       "      <td>2017-01-01</td>\n",
       "      <td>NaN</td>\n",
       "      <td>NaN</td>\n",
       "      <td>NaN</td>\n",
       "      <td>NaN</td>\n",
       "      <td>Single Family Residential</td>\n",
       "      <td>NaN</td>\n",
       "      <td>NaN</td>\n",
       "    </tr>\n",
       "    <tr>\n",
       "      <th>3</th>\n",
       "      <td>2288172</td>\n",
       "      <td>12177905</td>\n",
       "      <td>NaN</td>\n",
       "      <td>NaN</td>\n",
       "      <td>NaN</td>\n",
       "      <td>3.0</td>\n",
       "      <td>4.0</td>\n",
       "      <td>NaN</td>\n",
       "      <td>8.0</td>\n",
       "      <td>3.0</td>\n",
       "      <td>...</td>\n",
       "      <td>6.037300e+13</td>\n",
       "      <td>-0.103410</td>\n",
       "      <td>2017-01-01</td>\n",
       "      <td>NaN</td>\n",
       "      <td>NaN</td>\n",
       "      <td>NaN</td>\n",
       "      <td>Central</td>\n",
       "      <td>Single Family Residential</td>\n",
       "      <td>NaN</td>\n",
       "      <td>NaN</td>\n",
       "    </tr>\n",
       "    <tr>\n",
       "      <th>4</th>\n",
       "      <td>1970746</td>\n",
       "      <td>10887214</td>\n",
       "      <td>1.0</td>\n",
       "      <td>NaN</td>\n",
       "      <td>NaN</td>\n",
       "      <td>3.0</td>\n",
       "      <td>3.0</td>\n",
       "      <td>NaN</td>\n",
       "      <td>8.0</td>\n",
       "      <td>3.0</td>\n",
       "      <td>...</td>\n",
       "      <td>6.037124e+13</td>\n",
       "      <td>0.006940</td>\n",
       "      <td>2017-01-01</td>\n",
       "      <td>Central</td>\n",
       "      <td>NaN</td>\n",
       "      <td>NaN</td>\n",
       "      <td>Central</td>\n",
       "      <td>Condominium</td>\n",
       "      <td>NaN</td>\n",
       "      <td>NaN</td>\n",
       "    </tr>\n",
       "  </tbody>\n",
       "</table>\n",
       "<p>5 rows × 68 columns</p>\n",
       "</div>"
      ],
      "text/plain": [
       "        id  parcelid  airconditioningtypeid  architecturalstyletypeid  \\\n",
       "0  1727539  14297519                    NaN                       NaN   \n",
       "1  1387261  17052889                    NaN                       NaN   \n",
       "2    11677  14186244                    NaN                       NaN   \n",
       "3  2288172  12177905                    NaN                       NaN   \n",
       "4  1970746  10887214                    1.0                       NaN   \n",
       "\n",
       "   basementsqft  bathroomcnt  bedroomcnt  buildingclasstypeid  \\\n",
       "0           NaN          3.5         4.0                  NaN   \n",
       "1           NaN          1.0         2.0                  NaN   \n",
       "2           NaN          2.0         3.0                  NaN   \n",
       "3           NaN          3.0         4.0                  NaN   \n",
       "4           NaN          3.0         3.0                  NaN   \n",
       "\n",
       "   buildingqualitytypeid  calculatedbathnbr  ...  censustractandblock  \\\n",
       "0                    NaN                3.5  ...         6.059063e+13   \n",
       "1                    NaN                1.0  ...         6.111001e+13   \n",
       "2                    NaN                2.0  ...         6.059022e+13   \n",
       "3                    8.0                3.0  ...         6.037300e+13   \n",
       "4                    8.0                3.0  ...         6.037124e+13   \n",
       "\n",
       "   logerror  transactiondate  airconditioningdesc  architecturalstyledesc  \\\n",
       "0  0.025595       2017-01-01                  NaN                     NaN   \n",
       "1  0.055619       2017-01-01                  NaN                     NaN   \n",
       "2  0.005383       2017-01-01                  NaN                     NaN   \n",
       "3 -0.103410       2017-01-01                  NaN                     NaN   \n",
       "4  0.006940       2017-01-01              Central                     NaN   \n",
       "\n",
       "   buildingclassdesc  heatingorsystemdesc        propertylandusedesc  \\\n",
       "0                NaN                  NaN  Single Family Residential   \n",
       "1                NaN                  NaN  Single Family Residential   \n",
       "2                NaN                  NaN  Single Family Residential   \n",
       "3                NaN              Central  Single Family Residential   \n",
       "4                NaN              Central                Condominium   \n",
       "\n",
       "   storydesc  typeconstructiondesc  \n",
       "0        NaN                   NaN  \n",
       "1        NaN                   NaN  \n",
       "2        NaN                   NaN  \n",
       "3        NaN                   NaN  \n",
       "4        NaN                   NaN  \n",
       "\n",
       "[5 rows x 68 columns]"
      ]
     },
     "execution_count": 2,
     "metadata": {},
     "output_type": "execute_result"
    }
   ],
   "source": [
    "# calls the first 5 rows of the zillow dataset\n",
    "zillow.head()"
   ]
  },
  {
   "cell_type": "markdown",
   "id": "64c023a6",
   "metadata": {},
   "source": [
    "### Observation Takeaways: \n",
    "#### The original dataframe contained 77380 rows and 68 columns."
   ]
  },
  {
   "cell_type": "markdown",
   "id": "cd94d880",
   "metadata": {},
   "source": [
    "#### However...\n",
    "1. Data needs to be restricted to only inclue single family properties\n",
    "2. Columns that are deemed unnecessary or that contain more than 50% nulls need to be dropped.\n",
    "3. Outliers that infringe data integrity also need to be removed. \n",
    "4. Column naming conventions need to be proper and easily recognizable. \n",
    "5. Bedroms and bathroom outliers were changed where bedrooms or bathrooms would equal 0, as these are not representitive of a family home as outlined : [CHAPTER 96. - SINGLE- AND MULTI-FAMILY HOUSING CODE, of the Code of Ordinances](https://library.municode.com/tx/carrollton/codes/code_of_ordinances?nodeId=TITIXHESAPRMA_CH96SIULMIHOCO)\n",
    "6. As I outlined in a goal from the previous project, I created a property_age column that displays the age of the home in 2017. "
   ]
  },
  {
   "cell_type": "markdown",
   "id": "cfa90f4c",
   "metadata": {},
   "source": [
    "After altering the dataframe to better match the vision of these goals it returned:"
   ]
  },
  {
   "cell_type": "markdown",
   "id": "f01f013b",
   "metadata": {},
   "source": [
    "- 66,634 Rows\n",
    "- 10 Columns"
   ]
  },
  {
   "cell_type": "markdown",
   "id": "fe12da05",
   "metadata": {},
   "source": [
    "### Finally, before moving into Exploratory Analysis:\n",
    "- I obtained a train, validate, test dataset\n",
    "- Observed only:\n",
    "    - Bedrooms\n",
    "    - Bathrooms\n",
    "    - Square Feet\n",
    "    - County\n",
    "    - Year built\n",
    "    - Property Type\n",
    "    - Home Value"
   ]
  },
  {
   "cell_type": "code",
   "execution_count": 3,
   "id": "a2eeea4c",
   "metadata": {},
   "outputs": [
    {
     "data": {
      "text/html": [
       "<div>\n",
       "<style scoped>\n",
       "    .dataframe tbody tr th:only-of-type {\n",
       "        vertical-align: middle;\n",
       "    }\n",
       "\n",
       "    .dataframe tbody tr th {\n",
       "        vertical-align: top;\n",
       "    }\n",
       "\n",
       "    .dataframe thead th {\n",
       "        text-align: right;\n",
       "    }\n",
       "</style>\n",
       "<table border=\"1\" class=\"dataframe\">\n",
       "  <thead>\n",
       "    <tr style=\"text-align: right;\">\n",
       "      <th></th>\n",
       "      <th>parcelid</th>\n",
       "      <th>logerror</th>\n",
       "      <th>bathrooms</th>\n",
       "      <th>bedrooms</th>\n",
       "      <th>square_feet</th>\n",
       "      <th>county</th>\n",
       "      <th>year_built</th>\n",
       "      <th>property_type</th>\n",
       "      <th>home_value</th>\n",
       "    </tr>\n",
       "  </thead>\n",
       "  <tbody>\n",
       "    <tr>\n",
       "      <th>35021</th>\n",
       "      <td>12456239</td>\n",
       "      <td>0.110467</td>\n",
       "      <td>1.0</td>\n",
       "      <td>1</td>\n",
       "      <td>480</td>\n",
       "      <td>Los Angeles</td>\n",
       "      <td>1942</td>\n",
       "      <td>Single Family Residential</td>\n",
       "      <td>45881.0</td>\n",
       "    </tr>\n",
       "    <tr>\n",
       "      <th>5579</th>\n",
       "      <td>12864000</td>\n",
       "      <td>0.000151</td>\n",
       "      <td>4.0</td>\n",
       "      <td>5</td>\n",
       "      <td>2828</td>\n",
       "      <td>Los Angeles</td>\n",
       "      <td>1962</td>\n",
       "      <td>Single Family Residential</td>\n",
       "      <td>148451.0</td>\n",
       "    </tr>\n",
       "    <tr>\n",
       "      <th>71705</th>\n",
       "      <td>14733743</td>\n",
       "      <td>0.054847</td>\n",
       "      <td>2.5</td>\n",
       "      <td>2</td>\n",
       "      <td>1150</td>\n",
       "      <td>Orange</td>\n",
       "      <td>1998</td>\n",
       "      <td>Condominium</td>\n",
       "      <td>311854.0</td>\n",
       "    </tr>\n",
       "    <tr>\n",
       "      <th>57277</th>\n",
       "      <td>17075614</td>\n",
       "      <td>0.092856</td>\n",
       "      <td>3.0</td>\n",
       "      <td>3</td>\n",
       "      <td>2046</td>\n",
       "      <td>Ventura</td>\n",
       "      <td>1990</td>\n",
       "      <td>Single Family Residential</td>\n",
       "      <td>796305.0</td>\n",
       "    </tr>\n",
       "    <tr>\n",
       "      <th>45925</th>\n",
       "      <td>11177880</td>\n",
       "      <td>-0.041157</td>\n",
       "      <td>2.0</td>\n",
       "      <td>2</td>\n",
       "      <td>1028</td>\n",
       "      <td>Los Angeles</td>\n",
       "      <td>1985</td>\n",
       "      <td>Single Family Residential</td>\n",
       "      <td>270563.0</td>\n",
       "    </tr>\n",
       "  </tbody>\n",
       "</table>\n",
       "</div>"
      ],
      "text/plain": [
       "       parcelid  logerror  bathrooms  bedrooms  square_feet       county  \\\n",
       "35021  12456239  0.110467        1.0         1          480  Los Angeles   \n",
       "5579   12864000  0.000151        4.0         5         2828  Los Angeles   \n",
       "71705  14733743  0.054847        2.5         2         1150       Orange   \n",
       "57277  17075614  0.092856        3.0         3         2046      Ventura   \n",
       "45925  11177880 -0.041157        2.0         2         1028  Los Angeles   \n",
       "\n",
       "       year_built              property_type  home_value  \n",
       "35021        1942  Single Family Residential     45881.0  \n",
       "5579         1962  Single Family Residential    148451.0  \n",
       "71705        1998                Condominium    311854.0  \n",
       "57277        1990  Single Family Residential    796305.0  \n",
       "45925        1985  Single Family Residential    270563.0  "
      ]
     },
     "execution_count": 3,
     "metadata": {},
     "output_type": "execute_result"
    }
   ],
   "source": [
    "# split into train validate test and observe the first 5 rows of the dataset\n",
    "train, validate, test = ex.split_data()\n",
    "train.head()"
   ]
  },
  {
   "cell_type": "markdown",
   "id": "972d978c",
   "metadata": {},
   "source": [
    "### These 3 datasets allow:\n",
    "- Myself to train the data and observe distributions and perform statistical tests.\n",
    "- Validate that the data has been trained properly\n",
    "- Proceed to test the ML models constructed on new data."
   ]
  },
  {
   "cell_type": "markdown",
   "id": "6ddac93b",
   "metadata": {},
   "source": [
    "---"
   ]
  },
  {
   "cell_type": "markdown",
   "id": "0670ea6c",
   "metadata": {},
   "source": [
    "# Exploratory Analysis"
   ]
  },
  {
   "cell_type": "markdown",
   "id": "42c90282",
   "metadata": {},
   "source": [
    "#### I'll start by looking at the features in my altered dataframe that have a relatonship with logerror. "
   ]
  },
  {
   "cell_type": "code",
   "execution_count": 40,
   "id": "e293646b",
   "metadata": {},
   "outputs": [
    {
     "data": {
      "image/png": "[encoded data removed]",
      "text/plain": [
       "<Figure size 864x576 with 1 Axes>"
      ]
     },
     "metadata": {
      "needs_background": "light"
     },
     "output_type": "display_data"
    }
   ],
   "source": [
    "# correlation function that takes a dataframe and returns a correlation graph\n",
    "ex.corr_graph(train)"
   ]
  },
  {
   "cell_type": "markdown",
   "id": "4829aa7d",
   "metadata": {},
   "source": [
    "#### Takeaways : \n",
    "- At first glance, there isn't any features that have a visually storng positive relationship with logerror, however, there is some relationship."
   ]
  },
  {
   "cell_type": "markdown",
   "id": "e752c1ee",
   "metadata": {},
   "source": [
    "#### This is mostly found in:\n",
    "- Bedrooms \n",
    "- Sqaure feet \n",
    "- Bathrooms "
   ]
  },
  {
   "cell_type": "markdown",
   "id": "dcdb2a02",
   "metadata": {},
   "source": [
    "---"
   ]
  },
  {
   "cell_type": "markdown",
   "id": "525423ea",
   "metadata": {},
   "source": [
    "## Exploratory Analysis :  Questions :"
   ]
  },
  {
   "cell_type": "markdown",
   "id": "0515b712",
   "metadata": {},
   "source": [
    "Moving forward with the Exploratry Analysis I asked a number of questions that might solidify direction on how to percieve this dataset. "
   ]
  },
  {
   "cell_type": "markdown",
   "id": "5cf19cd7",
   "metadata": {},
   "source": [
    "#### Those questions were: \n",
    "- Is log error linearly correlation with number of bathrooms?\n",
    "    - Bedrooms?\n",
    "- Is log error significantly different in each: Average sqaure feet in LA, Orange, and Ventura? \n",
    "- Is log error linearly correlated with age of a property? \n",
    "- Is log error significantly different depending on the type of property."
   ]
  },
  {
   "cell_type": "markdown",
   "id": "5573c221",
   "metadata": {},
   "source": [
    "---"
   ]
  },
  {
   "cell_type": "markdown",
   "id": "f08b0897",
   "metadata": {},
   "source": [
    "#### Before moving to observed these questions, I had to calculate the age of a property to properly observe the 4th question."
   ]
  },
  {
   "cell_type": "code",
   "execution_count": 5,
   "id": "8062ce2e",
   "metadata": {},
   "outputs": [],
   "source": [
    "# function that sets the age of a home by subtracting it's \n",
    "# year built by 2017\n",
    "\n",
    "ex.set_home_age(train, validate, test)"
   ]
  },
  {
   "cell_type": "markdown",
   "id": "f7d63703",
   "metadata": {},
   "source": [
    "#### Following that, an Alpha needed to be set for statistical testing. This Alpha represented that each statistical test would be operating on a 95% confidence level."
   ]
  },
  {
   "cell_type": "code",
   "execution_count": 6,
   "id": "440911ec",
   "metadata": {},
   "outputs": [],
   "source": [
    "# alpha 0.05 = 95% confidence\n",
    "alpha = 0.05"
   ]
  },
  {
   "cell_type": "markdown",
   "id": "5a9d5b60",
   "metadata": {},
   "source": [
    "---"
   ]
  },
  {
   "cell_type": "markdown",
   "id": "0f516335",
   "metadata": {},
   "source": [
    "## Question 1: Is log error linearly correlation with number of bathrooms or bedrooms?"
   ]
  },
  {
   "cell_type": "markdown",
   "id": "e51161b3",
   "metadata": {},
   "source": [
    "### Bathrooms"
   ]
  },
  {
   "cell_type": "code",
   "execution_count": 7,
   "id": "e85aaa37",
   "metadata": {},
   "outputs": [
    {
     "data": {
      "image/png": "[encoded data removed]",
      "text/plain": [
       "<Figure size 360x360 with 1 Axes>"
      ]
     },
     "metadata": {
      "needs_background": "light"
     },
     "output_type": "display_data"
    }
   ],
   "source": [
    "# lmplot function that takes in a dataframe and returns an lmplot\n",
    "ex.bath_and_logerror(train)"
   ]
  },
  {
   "cell_type": "markdown",
   "id": "89d1cb34",
   "metadata": {},
   "source": [
    "### Statistical Test (Pearson's R) and Null Hypothesis:\n",
    "$H_0$: There is no linear correlation between logerror and number of bedrooms"
   ]
  },
  {
   "cell_type": "markdown",
   "id": "706685d9",
   "metadata": {},
   "source": [
    "$H_a$: There is a linear correlation between logerror and number of bedrooms"
   ]
  },
  {
   "cell_type": "code",
   "execution_count": 8,
   "id": "6c786784",
   "metadata": {
    "scrolled": true
   },
   "outputs": [
    {
     "name": "stdout",
     "output_type": "stream",
     "text": [
      "I reject the null hypothesis.\n"
     ]
    }
   ],
   "source": [
    "# correlation testing using pearsons r\n",
    "corr, p = stats.pearsonr(train.bathrooms, train.logerror)\n",
    "\n",
    "if p < alpha: \n",
    "    print('I reject the null hypothesis.')\n",
    "else:\n",
    "    print('I fail to reject the null hypothesis.')"
   ]
  },
  {
   "cell_type": "markdown",
   "id": "ab2a503d",
   "metadata": {},
   "source": [
    "### Bedrooms"
   ]
  },
  {
   "cell_type": "code",
   "execution_count": 9,
   "id": "ec6e4a6f",
   "metadata": {
    "scrolled": false
   },
   "outputs": [
    {
     "data": {
      "image/png": "[encoded data removed]",
      "text/plain": [
       "<Figure size 360x360 with 1 Axes>"
      ]
     },
     "metadata": {
      "needs_background": "light"
     },
     "output_type": "display_data"
    }
   ],
   "source": [
    "# lmplot function that takes in a dataframe and returns an lmplotv\n",
    "ex.beds_and_log(train)"
   ]
  },
  {
   "cell_type": "markdown",
   "id": "dfe2161c",
   "metadata": {},
   "source": [
    "### Statistical Test (Pearson's R) and Null Hypothesis:\n",
    "$H_0$: There is no significant difference between number of bedrooms and logerror."
   ]
  },
  {
   "cell_type": "markdown",
   "id": "7897864f",
   "metadata": {},
   "source": [
    "$H_a$: There is a significant difference between number of bedrooms and logerror."
   ]
  },
  {
   "cell_type": "code",
   "execution_count": 10,
   "id": "7ed51b4a",
   "metadata": {},
   "outputs": [
    {
     "name": "stdout",
     "output_type": "stream",
     "text": [
      "I reject the null hypothesis that there is no significant difference between number of bedrooms and logerror.\n"
     ]
    }
   ],
   "source": [
    "# correlation testing using pearsonsr \n",
    "corr, p = stats.pearsonr(train.logerror, train.bedrooms)\n",
    "corr, p\n",
    "\n",
    "if p < alpha: \n",
    "    print('I reject the null hypothesis that there is no significant difference between number of bedrooms and logerror.')\n",
    "else:\n",
    "    print('I fail to reject the null hypothesis.')"
   ]
  },
  {
   "cell_type": "markdown",
   "id": "90e0cd0d",
   "metadata": {},
   "source": [
    "### Question 1 Takeaways:\n",
    "- There is some linear correlation between number of bedrooms and bathrooms with logerror."
   ]
  },
  {
   "cell_type": "markdown",
   "id": "f08bc838",
   "metadata": {},
   "source": [
    "---"
   ]
  },
  {
   "cell_type": "markdown",
   "id": "67e01a89",
   "metadata": {},
   "source": [
    "## Question 2 :  Is log error significantly different in each: Average sqaure feet in LA, Orange, and Ventura? "
   ]
  },
  {
   "cell_type": "markdown",
   "id": "3312f7ab",
   "metadata": {},
   "source": [
    "#### To do this, I had to control for county :"
   ]
  },
  {
   "cell_type": "code",
   "execution_count": 11,
   "id": "5653024c",
   "metadata": {},
   "outputs": [],
   "source": [
    "# attributing variables to a dataframe that contains only a specific county\n",
    "la = train[train.county == 'Los Angeles']\n",
    "orange = train[train.county == 'Orange']\n",
    "ventura = train[train.county == 'Ventura']"
   ]
  },
  {
   "cell_type": "markdown",
   "id": "f430a77d",
   "metadata": {},
   "source": [
    "##### Upon discovering that there was no equal variance between the population logerror and the county logerror, a mannwhiteney-u test was decided upon with the alternative set to 'two-sided'"
   ]
  },
  {
   "cell_type": "markdown",
   "id": "da3c2c73",
   "metadata": {},
   "source": [
    "### Los Angeles Logerror and Population Logerror:"
   ]
  },
  {
   "cell_type": "markdown",
   "id": "7a756428",
   "metadata": {},
   "source": [
    "$H_0$: There is no significant difference between Los Angeles Logerror and population logerror. "
   ]
  },
  {
   "cell_type": "markdown",
   "id": "69737e62",
   "metadata": {},
   "source": [
    "$H_a$: There is a significant difference between Los Angeles logerror and population logerror."
   ]
  },
  {
   "cell_type": "code",
   "execution_count": 12,
   "id": "bec260a8",
   "metadata": {},
   "outputs": [
    {
     "name": "stdout",
     "output_type": "stream",
     "text": [
      "I fail to reject the null hypothesis. There is a significant difference.\n"
     ]
    }
   ],
   "source": [
    "# stats testing using mann whiteney-u\n",
    "t, p = stats.mannwhitneyu(la.logerror, \n",
    "                          train.logerror, alternative='two-sided')\n",
    "if p < alpha:\n",
    "    print('I reject the null hypothesis that there is no difference.')\n",
    "else:\n",
    "    print('I fail to reject the null hypothesis. There is a significant difference.')"
   ]
  },
  {
   "cell_type": "markdown",
   "id": "06172577",
   "metadata": {},
   "source": [
    "### Takeaway 1:\n",
    "- There is a significant difference between Los Angeles Logerror and the population logerror."
   ]
  },
  {
   "cell_type": "markdown",
   "id": "b239811b",
   "metadata": {},
   "source": [
    "### Ventura County Logerror and Population Logerror:"
   ]
  },
  {
   "cell_type": "markdown",
   "id": "c235f102",
   "metadata": {},
   "source": [
    "$H_0$: There is no significant difference between Los Angeles Logerror and population logerror. "
   ]
  },
  {
   "cell_type": "markdown",
   "id": "31e83887",
   "metadata": {},
   "source": [
    "$H_a$: There is a significant difference between Los Angeles logerror and population logerror."
   ]
  },
  {
   "cell_type": "code",
   "execution_count": 13,
   "id": "c8bc5a23",
   "metadata": {},
   "outputs": [
    {
     "name": "stdout",
     "output_type": "stream",
     "text": [
      "I fail to reject the null hypothesis. There is a significant difference.\n"
     ]
    }
   ],
   "source": [
    "# stats testing using mann whiteney-u\n",
    "t, p = stats.mannwhitneyu(ventura.logerror,\n",
    "                          train.logerror, alternative='two-sided')\n",
    "\n",
    "if p < alpha:\n",
    "    print('I reject the null hypothesis that there is no difference.')\n",
    "else:\n",
    "    print('I fail to reject the null hypothesis. There is a significant difference.')"
   ]
  },
  {
   "cell_type": "markdown",
   "id": "3b8536c5",
   "metadata": {},
   "source": [
    "### Takeaway 2 :\n",
    "- There is a significant difference between Ventura Logerror and population logerror."
   ]
  },
  {
   "cell_type": "markdown",
   "id": "c4f18ebd",
   "metadata": {},
   "source": [
    "### Orange County and Population Logerror:"
   ]
  },
  {
   "cell_type": "markdown",
   "id": "1fbc6e5b",
   "metadata": {},
   "source": [
    "$H_0$: There is no significant difference between Orange County Logerror and population logerror."
   ]
  },
  {
   "cell_type": "markdown",
   "id": "3477af94",
   "metadata": {},
   "source": [
    "$H_a$: There is a significant difference between Orange County logerror and population logerror"
   ]
  },
  {
   "cell_type": "code",
   "execution_count": 14,
   "id": "406dd1c7",
   "metadata": {},
   "outputs": [
    {
     "name": "stdout",
     "output_type": "stream",
     "text": [
      "I reject the null hypothesis that there is no difference.\n"
     ]
    }
   ],
   "source": [
    "# stats testing using mann whiteney-u\n",
    "t, p = stats.mannwhitneyu(orange.logerror, train.logerror, alternative='two-sided')\n",
    "\n",
    "if p < alpha:\n",
    "    print('I reject the null hypothesis that there is no difference.')\n",
    "else:\n",
    "    print('I fail to reject the null hypothesis. There is a significant difference.')"
   ]
  },
  {
   "cell_type": "markdown",
   "id": "29930f33",
   "metadata": {},
   "source": [
    "### Takeaway 3:\n",
    "- There is no significant difference, or no difference between Orange County Logerror and the population logerror."
   ]
  },
  {
   "cell_type": "markdown",
   "id": "f30d1443",
   "metadata": {},
   "source": [
    "### Question 2 Takeaways, Summary : \n",
    "- There is a significant difference between Los Angeles Logerror and the population logerror.\n",
    "- There is a significant difference between Ventura Logerror and population logerror.\n",
    "- There is no significant difference, or no difference between Orange County Logerror and the population logerror"
   ]
  },
  {
   "cell_type": "markdown",
   "id": "2d0f98a7",
   "metadata": {},
   "source": [
    "---"
   ]
  },
  {
   "cell_type": "markdown",
   "id": "7764933e",
   "metadata": {},
   "source": [
    "## Question 3, Is log error linearly correlated with age of a property? :"
   ]
  },
  {
   "cell_type": "code",
   "execution_count": 15,
   "id": "a8e74391",
   "metadata": {},
   "outputs": [
    {
     "data": {
      "text/plain": [
       "<Figure size 1152x576 with 0 Axes>"
      ]
     },
     "metadata": {},
     "output_type": "display_data"
    },
    {
     "data": {
      "image/png": "[encoded data removed]",
      "text/plain": [
       "<Figure size 360x360 with 1 Axes>"
      ]
     },
     "metadata": {
      "needs_background": "light"
     },
     "output_type": "display_data"
    }
   ],
   "source": [
    "# lmplot function found in explore.py\n",
    "ex.age_and_logerror(train)"
   ]
  },
  {
   "cell_type": "markdown",
   "id": "4b4056e2",
   "metadata": {},
   "source": [
    "### Statistical Test (Pearson's R) and Null Hypothesis:\n",
    "$H_0$: There is no linear correlation between Property Age and Logerror"
   ]
  },
  {
   "cell_type": "markdown",
   "id": "8caa9190",
   "metadata": {},
   "source": [
    "$H_a$: There is a linear correlation between property age and logerror"
   ]
  },
  {
   "cell_type": "code",
   "execution_count": 16,
   "id": "36a9d470",
   "metadata": {},
   "outputs": [
    {
     "name": "stdout",
     "output_type": "stream",
     "text": [
      "I fail to reject the null hypothesis, there is a linear correlation\n"
     ]
    }
   ],
   "source": [
    "# stats testing using pearsonsr\n",
    "corr, p = stats.pearsonr(train.property_age, train.logerror)\n",
    "\n",
    "if p < alpha:\n",
    "    print('I reject the null hypothesis that there is no linear correlation.')\n",
    "else:\n",
    "    print('I fail to reject the null hypothesis, there is a linear correlation')"
   ]
  },
  {
   "cell_type": "markdown",
   "id": "66e266aa",
   "metadata": {},
   "source": [
    "### Takeaways:\n",
    "- There is a linear correlation between the age of the property and logerror."
   ]
  },
  {
   "cell_type": "markdown",
   "id": "11795ffa",
   "metadata": {},
   "source": [
    "## Question 4, While controlling for property type, is there a linear correlation between the year the home was built and logerror?"
   ]
  },
  {
   "cell_type": "markdown",
   "id": "b81929de",
   "metadata": {},
   "source": [
    "#### First I had to control for property type:\n",
    "- Single Family Residents\n",
    "- Condominium\n",
    "- Town Homes\n",
    "- Mobile Homes"
   ]
  },
  {
   "cell_type": "markdown",
   "id": "7781354a",
   "metadata": {},
   "source": [
    "However, Mobile and Town homes sample size were too small, so they were removed from any statistical testing."
   ]
  },
  {
   "cell_type": "code",
   "execution_count": 17,
   "id": "79475ed2",
   "metadata": {},
   "outputs": [],
   "source": [
    "# attributing variables to a specific dataframe \n",
    "single_family = train[train.property_type == 'Single Family Residential']\n",
    "condo = train[train.property_type == 'Condominium']\n",
    "\n",
    "types = ['Single Family Residential', 'Condominium']"
   ]
  },
  {
   "cell_type": "markdown",
   "id": "487d84d3",
   "metadata": {},
   "source": [
    "### Condominium Type Homes"
   ]
  },
  {
   "cell_type": "code",
   "execution_count": 18,
   "id": "c727e86d",
   "metadata": {},
   "outputs": [
    {
     "data": {
      "text/plain": [
       "<seaborn.axisgrid.FacetGrid at 0x7fec1ab3bd90>"
      ]
     },
     "execution_count": 18,
     "metadata": {},
     "output_type": "execute_result"
    },
    {
     "data": {
      "image/png": "[encoded data removed]",
      "text/plain": [
       "<Figure size 455.75x360 with 1 Axes>"
      ]
     },
     "metadata": {
      "needs_background": "light"
     },
     "output_type": "display_data"
    }
   ],
   "source": [
    "# creates an lmplot that takes in the condo dataframe\n",
    "sns.lmplot(data=condo, x='year_built', y='logerror', line_kws={'color':'red'}, \n",
    "           hue='county')"
   ]
  },
  {
   "cell_type": "markdown",
   "id": "db587104",
   "metadata": {},
   "source": [
    "### Statistical Test (Pearson's R) and Null Hypothesis:"
   ]
  },
  {
   "cell_type": "markdown",
   "id": "c4f93f8c",
   "metadata": {},
   "source": [
    "$H_0$: There is no significant difference between the type of property and logerror"
   ]
  },
  {
   "cell_type": "markdown",
   "id": "fe084fae",
   "metadata": {},
   "source": [
    "$H_a$: There is a significant difference between logerror and type of property."
   ]
  },
  {
   "cell_type": "code",
   "execution_count": 19,
   "id": "613889a6",
   "metadata": {},
   "outputs": [
    {
     "name": "stdout",
     "output_type": "stream",
     "text": [
      "I fail to reject the null hypothesis, there is a linear correlation\n"
     ]
    }
   ],
   "source": [
    "# stats testing using pearsonsr\n",
    "corr, p = stats.pearsonr(condo.year_built, condo.logerror)\n",
    "\n",
    "if p < alpha:\n",
    "    print('I reject the null hypothesis that there is no linear correlation.')\n",
    "else:\n",
    "    print('I fail to reject the null hypothesis, there is a linear correlation')"
   ]
  },
  {
   "cell_type": "markdown",
   "id": "0c7198d1",
   "metadata": {},
   "source": [
    "### Takeaways:\n",
    "  - Discovered a strong postive linear correlation between a condo home's year built and it's P value. P value returned at .96"
   ]
  },
  {
   "cell_type": "markdown",
   "id": "e26f0be2",
   "metadata": {},
   "source": [
    "### Single Family Residentials"
   ]
  },
  {
   "cell_type": "code",
   "execution_count": 20,
   "id": "9739770c",
   "metadata": {},
   "outputs": [
    {
     "data": {
      "text/plain": [
       "<seaborn.axisgrid.FacetGrid at 0x7febf902c700>"
      ]
     },
     "execution_count": 20,
     "metadata": {},
     "output_type": "execute_result"
    },
    {
     "data": {
      "image/png": "[encoded data removed]",
      "text/plain": [
       "<Figure size 455.75x360 with 1 Axes>"
      ]
     },
     "metadata": {
      "needs_background": "light"
     },
     "output_type": "display_data"
    }
   ],
   "source": [
    "# lmplot that takes in the single family dataframe\n",
    "sns.lmplot(data=single_family, x='year_built', y='logerror', line_kws={'color':'red'}, \n",
    "           hue='county')"
   ]
  },
  {
   "cell_type": "code",
   "execution_count": 21,
   "id": "615acffd",
   "metadata": {},
   "outputs": [
    {
     "name": "stdout",
     "output_type": "stream",
     "text": [
      "I reject the null hypothesis that there is no linear correlation.\n"
     ]
    }
   ],
   "source": [
    "# statistical testing using pearsonsr\n",
    "corr, p = stats.pearsonr(single_family.year_built, single_family.logerror)\n",
    "\n",
    "if p < alpha:\n",
    "    print('I reject the null hypothesis that there is no linear correlation.')\n",
    "else:\n",
    "    print('I fail to reject the null hypothesis, there is a linear correlation.')"
   ]
  },
  {
   "cell_type": "markdown",
   "id": "dd057e9e",
   "metadata": {},
   "source": [
    "### Takeaways:\n",
    "- No linear correlation between type single family residential's year built, and logerror."
   ]
  },
  {
   "cell_type": "markdown",
   "id": "0b357f03",
   "metadata": {},
   "source": [
    "---"
   ]
  },
  {
   "cell_type": "markdown",
   "id": "e29e142b",
   "metadata": {},
   "source": [
    "### Exploration Summary and Key Takeaways:\n",
    "#### When observing general home features such as bedrooms and bathrooms: \n",
    "   - There is some linear correlation between number of bedrooms and logerror.\n",
    "   - There is some linear correlation between number of bathrooms and logerror."
   ]
  },
  {
   "cell_type": "markdown",
   "id": "194cc1cc",
   "metadata": {},
   "source": [
    "#### When controlling for county:\n",
    "   - There is a significant difference between Los Angeles Logerror and the population logerror.\n",
    "   - There is a significant difference between Ventura Logerror and population logerror.\n",
    "   - There is no significant difference, or no difference between Orange County Logerror and the population logerror."
   ]
  },
  {
   "cell_type": "markdown",
   "id": "d19ac8e3",
   "metadata": {},
   "source": [
    "#### When observing age of property: \n",
    " - There is a linear correlation between the age of the property and logerror."
   ]
  },
  {
   "cell_type": "markdown",
   "id": "3e64f3e5",
   "metadata": {},
   "source": [
    "#### When controlling for property type:\n",
    "   - Townhomes and Mobile home data sample were too small to perform any meaningful statistical operations.\n",
    "   - No linear correlation between type single family residential's year built, and logerror.\n",
    "   - Strong postive linear correlation between the year condiminums were built and logerror. (P value .96)"
   ]
  },
  {
   "cell_type": "markdown",
   "id": "464fb81f",
   "metadata": {},
   "source": [
    "---"
   ]
  },
  {
   "cell_type": "markdown",
   "id": "6ecbfef4",
   "metadata": {},
   "source": [
    "# Clustering"
   ]
  },
  {
   "cell_type": "markdown",
   "id": "e33a0686",
   "metadata": {},
   "source": [
    "Before Clustering can be done, I must scale the data and create copies."
   ]
  },
  {
   "cell_type": "markdown",
   "id": "06afc9bd",
   "metadata": {},
   "source": [
    "### Scaling data"
   ]
  },
  {
   "cell_type": "code",
   "execution_count": 41,
   "id": "d5ee2edd",
   "metadata": {},
   "outputs": [],
   "source": [
    "# scaling the data using a MinMaxScaler\n",
    "train_scaled, validate_scaled, test_scaled = wr.scale_data(train, validate, test)\n",
    "\n",
    "df = train_scaled.copy()\n",
    "df=df.reset_index()"
   ]
  },
  {
   "cell_type": "markdown",
   "id": "bb80ae8a",
   "metadata": {},
   "source": [
    "#### Now to Cluster the data, I split it into two different Clusters:"
   ]
  },
  {
   "cell_type": "markdown",
   "id": "f6bf96a5",
   "metadata": {},
   "source": [
    "### Property Size Cluster:\n",
    "The Clustering of: \n",
    "- Square Feet\n",
    "- Number of Bedrooms\n",
    "- Number of Bathrooms"
   ]
  },
  {
   "cell_type": "code",
   "execution_count": 23,
   "id": "ef5e18d7",
   "metadata": {
    "scrolled": false
   },
   "outputs": [
    {
     "data": {
      "image/png": "[encoded data removed]",
      "text/plain": [
       "<Figure size 720x576 with 1 Axes>"
      ]
     },
     "metadata": {},
     "output_type": "display_data"
    }
   ],
   "source": [
    "# clustering inertia function\n",
    "X = df[['square_feet', 'bedrooms', 'bathrooms']]\n",
    "\n",
    "\n",
    "with plt.style.context('seaborn-whitegrid'):\n",
    "    plt.figure(figsize=(10,8))\n",
    "    pd.Series({k: KMeans(k).fit(X).inertia_ for k in range(2, 12)}).plot(marker='x')\n",
    "    plt.xticks(range(2, 12))\n",
    "    plt.xlabel('k')\n",
    "    plt.ylabel('inertia')\n",
    "    plt.title('Change in inertia as k increases')"
   ]
  },
  {
   "cell_type": "markdown",
   "id": "f7958902",
   "metadata": {},
   "source": [
    "### Property Age Cluster:\n",
    "The Clustering of: \n",
    "- Property Age\n",
    "- Year Built"
   ]
  },
  {
   "cell_type": "code",
   "execution_count": 24,
   "id": "5238302a",
   "metadata": {},
   "outputs": [
    {
     "data": {
      "image/png": "[encoded data removed]",
      "text/plain": [
       "<Figure size 720x576 with 1 Axes>"
      ]
     },
     "metadata": {},
     "output_type": "display_data"
    }
   ],
   "source": [
    "# Clustering inertia function for property age\n",
    "X2 = df[['property_age', 'year_built']]\n",
    "\n",
    "with plt.style.context('seaborn-whitegrid'):\n",
    "    plt.figure(figsize=(10,8))\n",
    "    pd.Series({k: KMeans(k).fit(X2).inertia_ for k in range(2, 12)}).plot(marker='x')\n",
    "    plt.xticks(range(2, 12))\n",
    "    plt.xlabel('k')\n",
    "    plt.ylabel('inertia')\n",
    "    plt.title('Change in inertia as k increases')"
   ]
  },
  {
   "cell_type": "markdown",
   "id": "c588149a",
   "metadata": {},
   "source": [
    "## Takeaways :\n",
    "- Observing the change in inertia of both charts, setting n_clusters to 4 seemed to be the best option. "
   ]
  },
  {
   "cell_type": "markdown",
   "id": "97685a67",
   "metadata": {},
   "source": [
    "---"
   ]
  },
  {
   "cell_type": "markdown",
   "id": "46194e92",
   "metadata": {},
   "source": [
    "# Modeling"
   ]
  },
  {
   "cell_type": "markdown",
   "id": "326d09d7",
   "metadata": {},
   "source": [
    "#### Identifying the MVP:"
   ]
  },
  {
   "cell_type": "code",
   "execution_count": 25,
   "id": "7d527186",
   "metadata": {},
   "outputs": [],
   "source": [
    "# identifying mvp columns\n",
    "mvp = ['bedrooms', 'bathrooms', 'square_feet', 'year_built', 'home_value',\n",
    "       'property_age']"
   ]
  },
  {
   "cell_type": "markdown",
   "id": "ed90b074",
   "metadata": {},
   "source": [
    "#### Scaling the MVP:"
   ]
  },
  {
   "cell_type": "code",
   "execution_count": 26,
   "id": "d4dcbb4e",
   "metadata": {},
   "outputs": [],
   "source": [
    "# setting X and Y variables for modeling\n",
    "X_train, y_train = train_scaled[mvp], train_scaled.logerror\n",
    "X_validate, y_validate = validate_scaled[mvp], validate_scaled.home_value\n",
    "X_test, y_test = test_scaled[mvp], test_scaled.home_value"
   ]
  },
  {
   "cell_type": "markdown",
   "id": "61c7b412",
   "metadata": {},
   "source": [
    "### Now I will set both clusters to train dataframe and proceed to modeling"
   ]
  },
  {
   "cell_type": "markdown",
   "id": "c0b927f0",
   "metadata": {},
   "source": [
    "### Property Size"
   ]
  },
  {
   "cell_type": "code",
   "execution_count": 27,
   "id": "bb5200b5",
   "metadata": {},
   "outputs": [],
   "source": [
    "# property size cluster\n",
    "\n",
    "#Create the KMeans model\n",
    "\n",
    "cols = ['square_feet', 'bedrooms', 'bathrooms']\n",
    "\n",
    "X = X_train[cols]\n",
    "\n",
    "kmeans = KMeans(n_clusters = 4)\n",
    "\n",
    "#Fit the model\n",
    "kmeans.fit(X)\n",
    "\n",
    "#Make predictions and assign the values to the original train data set\n",
    "X_train['property_size_cluster'] = kmeans.predict(X)\n",
    "\n",
    "# create dataframe with centroids and columns\n",
    "centroids = pd.DataFrame(kmeans.cluster_centers_, columns=X.columns)\n",
    "X_train.groupby('property_size_cluster')['square_feet', 'bedrooms', 'bathrooms'].mean()\n",
    "\n",
    "\n",
    "\n",
    "# Now for validate\n",
    "X = X_validate[cols]\n",
    "\n",
    "X_validate['property_size_cluster'] = kmeans.predict(X)\n",
    "\n",
    "# Then test\n",
    "X = X_test[cols]\n",
    "X_test['property_size_cluster'] = kmeans.predict(X)"
   ]
  },
  {
   "cell_type": "markdown",
   "id": "3436e095",
   "metadata": {},
   "source": [
    "### Visualizing the Cluster Centers"
   ]
  },
  {
   "cell_type": "code",
   "execution_count": 28,
   "id": "8f1d3a75",
   "metadata": {},
   "outputs": [
    {
     "data": {
      "text/plain": [
       "Text(0.5, 1.0, 'Visualizing Cluster Centers')"
      ]
     },
     "execution_count": 28,
     "metadata": {},
     "output_type": "execute_result"
    },
    {
     "data": {
      "image/png": "[encoded data removed]",
      "text/plain": [
       "<Figure size 1008x648 with 1 Axes>"
      ]
     },
     "metadata": {
      "needs_background": "light"
     },
     "output_type": "display_data"
    }
   ],
   "source": [
    "# visualzing cluster centers\n",
    "plt.figure(figsize=(14,9))\n",
    "for cluster, subset in X_train.groupby('property_size_cluster'):\n",
    "    plt.scatter(subset.bathrooms, subset.square_feet, label='cluster ' + str(cluster), alpha=.6)\n",
    "\n",
    "centroids.plot.scatter(y='bathrooms', x='square_feet',\n",
    "                       c='black', marker='x', s=1000, ax=plt.gca(),\n",
    "                       label='centroid')\n",
    "\n",
    "plt.legend()\n",
    "plt.title('Visualizing Cluster Centers')"
   ]
  },
  {
   "cell_type": "markdown",
   "id": "483d8d75",
   "metadata": {},
   "source": [
    "### Age of Property Cluster"
   ]
  },
  {
   "cell_type": "code",
   "execution_count": 30,
   "id": "b2247cf7",
   "metadata": {},
   "outputs": [],
   "source": [
    "cols2 = ['property_age', 'year_built']\n",
    "\n",
    "X2 = X_train[cols2]\n",
    "\n",
    "#Create the KMeans model\n",
    "kmeans = KMeans(n_clusters = 3)\n",
    "\n",
    "#Fit the model\n",
    "kmeans.fit(X2)\n",
    "\n",
    "#Make predictions and assign the values to the original train data set\n",
    "X_train['age_cluster'] = kmeans.predict(X2)\n",
    "centroids = pd.DataFrame(kmeans.cluster_centers_, columns=X2.columns)\n",
    "X_train.groupby('age_cluster')['property_age', 'year_built'].mean()\n",
    "\n",
    "X2 = X_validate[cols2]\n",
    "\n",
    "X_validate['age_cluster'] = kmeans.predict(X2)\n",
    "\n",
    "X2 = X_test[cols2]\n",
    "X_test['age_cluster'] = kmeans.predict(X2)"
   ]
  },
  {
   "cell_type": "markdown",
   "id": "6678ccc4",
   "metadata": {},
   "source": [
    "### Visualizing Property Age Cluster Centers"
   ]
  },
  {
   "cell_type": "code",
   "execution_count": 31,
   "id": "6c415a7f",
   "metadata": {},
   "outputs": [
    {
     "data": {
      "text/plain": [
       "Text(0.5, 1.0, 'Visualizing Cluster Centers')"
      ]
     },
     "execution_count": 31,
     "metadata": {},
     "output_type": "execute_result"
    },
    {
     "data": {
      "image/png": "[encoded data removed]",
      "text/plain": [
       "<Figure size 1008x648 with 1 Axes>"
      ]
     },
     "metadata": {
      "needs_background": "light"
     },
     "output_type": "display_data"
    }
   ],
   "source": [
    "plt.figure(figsize=(14,9))\n",
    "for cluster, subset in X_train.groupby('age_cluster'):\n",
    "    plt.scatter(subset.year_built, subset.property_age, label='cluster ' + str(cluster), alpha=.6)\n",
    "\n",
    "centroids.plot.scatter(y='year_built', x='property_age',\n",
    "                       c='black', marker='x', s=1000, ax=plt.gca(),\n",
    "                       label='centroid')\n",
    "\n",
    "plt.legend()\n",
    "plt.title('Visualizing Cluster Centers')"
   ]
  },
  {
   "cell_type": "markdown",
   "id": "398a5063",
   "metadata": {},
   "source": [
    "### Now that the clusters are set and ready to go, I will move on to creating the baseline and constructing some ML models."
   ]
  },
  {
   "cell_type": "markdown",
   "id": "5b9cbc9e",
   "metadata": {},
   "source": [
    "### Create the baseline: "
   ]
  },
  {
   "cell_type": "code",
   "execution_count": 32,
   "id": "f86646ed",
   "metadata": {},
   "outputs": [],
   "source": [
    "#First convert y_train into Dataframes so the baselines can be easily calculated with pandas\n",
    "y_train = pd.DataFrame(y_train)\n",
    "y_validate = pd.DataFrame(y_validate)\n",
    "y_test =pd.DataFrame(y_test)\n",
    "\n",
    "# Create new data frame to hold my in sample predictions and the same for out of sample\n",
    "pred_train = y_train.copy()\n",
    "pred_train = pred_train.rename(columns={'logerror':'actual'})\n",
    "pred_validate = y_validate.copy()\n",
    "pred_validate = pred_validate.rename(columns={'home_value':'actual'})\n",
    "pred_test = y_test.copy()\n",
    "pred_test = pred_test.rename(columns={'home_value':'actual'})\n",
    "\n",
    "\n",
    "#Calculate based on mean and add baseline predictions to a the train data frame holding predictions\n",
    "baseline_mean = train.logerror.mean()\n",
    "pred_train['baseline_mean'] = baseline_mean\n",
    "pred_validate['baseline_mean'] = baseline_mean\n",
    "pred_test['baseline_mean'] = baseline_mean\n",
    "\n",
    "#Calculate based on median and add baseline predictions to the train data frame holding predictions\n",
    "baseline_median = train.logerror.median()\n",
    "pred_train['baseline_median'] = baseline_median\n",
    "pred_validate['baseline_median'] = baseline_median\n",
    "pred_test['baseline_median'] = baseline_median"
   ]
  },
  {
   "cell_type": "markdown",
   "id": "d18c74bb",
   "metadata": {},
   "source": [
    "### Calculate the RMSE of the baseline mean"
   ]
  },
  {
   "cell_type": "code",
   "execution_count": 33,
   "id": "823c0f90",
   "metadata": {},
   "outputs": [
    {
     "name": "stdout",
     "output_type": "stream",
     "text": [
      "RMSE using Mean\n",
      "Train/In-Sample:  0.0246766 \n",
      "Validate/Out-of-Sample:  0.0023911\n",
      " \n",
      "----------------------------------------------------------\n",
      " \n",
      "RMSE using Median\n",
      "Train/In-Sample:  0.0247554 \n",
      "Validate/Out-of-Sample:  0.0029766\n"
     ]
    }
   ],
   "source": [
    "# RMSE of baseline mean\n",
    "rmse_train = mean_squared_error(pred_train.actual,\n",
    "                                pred_train.baseline_mean)\n",
    "\n",
    "rmse_validate = mean_squared_error(pred_validate.actual,\n",
    "                                   pred_validate.baseline_mean)\n",
    "\n",
    "print(\"RMSE using Mean\\nTrain/In-Sample: \", round(rmse_train, 7), \n",
    "      \"\\nValidate/Out-of-Sample: \", round(rmse_validate, 7))\n",
    "\n",
    "print(' ')\n",
    "print('----------------------------------------------------------')\n",
    "print(' ')\n",
    "\n",
    "# RMSE of baseline median\n",
    "rmse_train = mean_squared_error(pred_train.actual,\n",
    "                                pred_train.baseline_median)\n",
    "\n",
    "rmse_validate = mean_squared_error(pred_validate.actual,\n",
    "                                   pred_validate.baseline_median)\n",
    "\n",
    "print(\"RMSE using Median\\nTrain/In-Sample: \", round(rmse_train, 7), \n",
    "      \"\\nValidate/Out-of-Sample: \", round(rmse_validate, 7))"
   ]
  },
  {
   "cell_type": "markdown",
   "id": "653e21c6",
   "metadata": {},
   "source": [
    "### After using the clustered dataset against many different models, the best performing models were : \n",
    "- Ordinary Least Squares Model (OLS Model)\n",
    "- Lasso + Lars Model"
   ]
  },
  {
   "cell_type": "markdown",
   "id": "78f1793f",
   "metadata": {},
   "source": [
    "### Here is a preview of the code used to create those models"
   ]
  },
  {
   "cell_type": "markdown",
   "id": "163ec5be",
   "metadata": {},
   "source": [
    "#### Ordinary Least Squares"
   ]
  },
  {
   "cell_type": "code",
   "execution_count": 34,
   "id": "190040dd",
   "metadata": {},
   "outputs": [],
   "source": [
    "# set linearRegression model\n",
    "lm = LinearRegression(normalize=True)\n",
    "\n",
    "lm.fit(X_train, y_train)\n",
    "\n",
    "# make predictions\n",
    "pred_train['ols'] = lm.predict(X_train)\n",
    "pred_validate['ols'] = lm.predict(X_validate)\n",
    "\n",
    "\n",
    "rmse_train1 = mean_squared_error(pred_train.actual,\n",
    "                                pred_train.ols)\n",
    "\n",
    "rmse_validate1 = mean_squared_error(pred_validate.actual,\n",
    "                                pred_validate.ols)"
   ]
  },
  {
   "cell_type": "markdown",
   "id": "72ebf423",
   "metadata": {},
   "source": [
    "#### Lasso + Lars"
   ]
  },
  {
   "cell_type": "code",
   "execution_count": 37,
   "id": "1c18694a",
   "metadata": {},
   "outputs": [],
   "source": [
    "# create the model object\n",
    "lars = LassoLars(alpha=1.0)\n",
    "\n",
    "# fit the model to our training data. We must specify the column in y_train, \n",
    "# since we have converted it to a dataframe from a series! \n",
    "lars.fit(X_train, y_train)\n",
    "\n",
    "# predict \n",
    "pred_train['lars'] = lars.predict(X_train)\n",
    "pred_validate['lars'] = lars.predict(X_validate)\n",
    "\n",
    "\n",
    "# evaluate: rmse\n",
    "rmse_train4 = mean_squared_error(pred_train.actual, pred_train.lars)\n",
    "\n",
    "# evaluate: rmse\n",
    "rmse_validate4 = mean_squared_error(pred_validate.actual, pred_validate.lars)"
   ]
  },
  {
   "cell_type": "markdown",
   "id": "ae96b4c8",
   "metadata": {},
   "source": [
    "#### RMSE of both models : \n",
    "#### OLS Model\n",
    "- RMSE using Median\n",
    "- Train/In-Sample:  0.0246267 \n",
    "- Validate/Out-of-Sample:  0.0027248"
   ]
  },
  {
   "cell_type": "markdown",
   "id": "6a5fc471",
   "metadata": {},
   "source": [
    "#### Lasso + Lars \n",
    "- RMSE using Median\n",
    "- Train/In-Sample:  0.0246766 \n",
    "- Validate/Out-of-Sample:  0.0023911"
   ]
  },
  {
   "cell_type": "markdown",
   "id": "75454da1",
   "metadata": {},
   "source": [
    "#### Ultimately, the Lasso + Lars Model had the better performance of the two."
   ]
  },
  {
   "cell_type": "markdown",
   "id": "066f2223",
   "metadata": {},
   "source": [
    "#### However, it wasn't an improvement over the baseline model when observing out-of-sample data."
   ]
  },
  {
   "cell_type": "markdown",
   "id": "226b8e18",
   "metadata": {},
   "source": [
    "#### Here is checking the performance on out of sample data"
   ]
  },
  {
   "cell_type": "code",
   "execution_count": 38,
   "id": "fe868ccb",
   "metadata": {},
   "outputs": [
    {
     "name": "stdout",
     "output_type": "stream",
     "text": [
      "RMSE for Lasso Lars Model\n",
      "Out-of-Sample Performance:  0.002166624686321513\n"
     ]
    }
   ],
   "source": [
    "# predict on test\n",
    "pred_test['lars'] = lars.predict(X_test)\n",
    "\n",
    "# evaluate: rmse\n",
    "rmse_test = mean_squared_error(pred_test.actual, pred_test.lars)\n",
    "\n",
    "print(\"RMSE for Lasso Lars Model\\nOut-of-Sample Performance: \", rmse_test)"
   ]
  },
  {
   "cell_type": "markdown",
   "id": "63dc6bc9",
   "metadata": {},
   "source": [
    "#### Here is what that dataframe looks like:"
   ]
  },
  {
   "cell_type": "code",
   "execution_count": 39,
   "id": "29c15f0c",
   "metadata": {},
   "outputs": [
    {
     "data": {
      "text/html": [
       "<div>\n",
       "<style scoped>\n",
       "    .dataframe tbody tr th:only-of-type {\n",
       "        vertical-align: middle;\n",
       "    }\n",
       "\n",
       "    .dataframe tbody tr th {\n",
       "        vertical-align: top;\n",
       "    }\n",
       "\n",
       "    .dataframe thead th {\n",
       "        text-align: right;\n",
       "    }\n",
       "</style>\n",
       "<table border=\"1\" class=\"dataframe\">\n",
       "  <thead>\n",
       "    <tr style=\"text-align: right;\">\n",
       "      <th></th>\n",
       "      <th>actual</th>\n",
       "      <th>baseline_mean</th>\n",
       "      <th>baseline_median</th>\n",
       "      <th>lars</th>\n",
       "    </tr>\n",
       "  </thead>\n",
       "  <tbody>\n",
       "    <tr>\n",
       "      <th>50829</th>\n",
       "      <td>0.021352</td>\n",
       "      <td>0.014827</td>\n",
       "      <td>0.005951</td>\n",
       "      <td>0.014827</td>\n",
       "    </tr>\n",
       "    <tr>\n",
       "      <th>23979</th>\n",
       "      <td>0.071648</td>\n",
       "      <td>0.014827</td>\n",
       "      <td>0.005951</td>\n",
       "      <td>0.014827</td>\n",
       "    </tr>\n",
       "    <tr>\n",
       "      <th>18367</th>\n",
       "      <td>0.040854</td>\n",
       "      <td>0.014827</td>\n",
       "      <td>0.005951</td>\n",
       "      <td>0.014827</td>\n",
       "    </tr>\n",
       "    <tr>\n",
       "      <th>35246</th>\n",
       "      <td>0.029438</td>\n",
       "      <td>0.014827</td>\n",
       "      <td>0.005951</td>\n",
       "      <td>0.014827</td>\n",
       "    </tr>\n",
       "    <tr>\n",
       "      <th>28553</th>\n",
       "      <td>0.027730</td>\n",
       "      <td>0.014827</td>\n",
       "      <td>0.005951</td>\n",
       "      <td>0.014827</td>\n",
       "    </tr>\n",
       "  </tbody>\n",
       "</table>\n",
       "</div>"
      ],
      "text/plain": [
       "         actual  baseline_mean  baseline_median      lars\n",
       "50829  0.021352       0.014827         0.005951  0.014827\n",
       "23979  0.071648       0.014827         0.005951  0.014827\n",
       "18367  0.040854       0.014827         0.005951  0.014827\n",
       "35246  0.029438       0.014827         0.005951  0.014827\n",
       "28553  0.027730       0.014827         0.005951  0.014827"
      ]
     },
     "execution_count": 39,
     "metadata": {},
     "output_type": "execute_result"
    }
   ],
   "source": [
    "pred_test.head()"
   ]
  },
  {
   "cell_type": "markdown",
   "id": "2889d5ad",
   "metadata": {},
   "source": [
    "### In Conclusion :\n",
    "#### The models were not able to out perform the baseline"
   ]
  },
  {
   "cell_type": "markdown",
   "id": "e7c2992b",
   "metadata": {},
   "source": [
    "#### Although some Key drivers were found, and while they do have a relationship with logerror, many do not have a strong positive relationship with logerror."
   ]
  },
  {
   "cell_type": "markdown",
   "id": "790ab587",
   "metadata": {},
   "source": [
    "#### These Key drivers are : \n",
    "   - Number of bedrooms and logerror.\n",
    "   - Number of bathrooms and logerror.\n",
    "   - The age of a property\n",
    "   - Square Footage\n",
    "   - Property Type Year Built"
   ]
  },
  {
   "cell_type": "markdown",
   "id": "2b24dc49",
   "metadata": {},
   "source": [
    "### Recommendations:\n",
    "- I would recommend to continue improving upon the baseline model as it works well enough given the current situation.\n",
    "- I would recommend pursuing further identifications of key drivers for logerror to potentially construct better accurate predictors."
   ]
  },
  {
   "cell_type": "markdown",
   "id": "1c81a1da",
   "metadata": {},
   "source": [
    "## Next Steps with more time:\n",
    "- Conduct more feature engineering and diversifying my clustering\n",
    "- Create more robust models that continue to race towards beating the baseline model."
   ]
  },
  {
   "cell_type": "markdown",
   "id": "84f32c44",
   "metadata": {},
   "source": [
    "### End"
   ]
  },
  {
   "cell_type": "code",
   "execution_count": null,
   "id": "a43725f0",
   "metadata": {},
   "outputs": [],
   "source": []
  }
 ],
 "metadata": {
  "kernelspec": {
   "display_name": "Python 3 (ipykernel)",
   "language": "python",
   "name": "python3"
  },
  "language_info": {
   "codemirror_mode": {
    "name": "ipython",
    "version": 3
   },
   "file_extension": ".py",
   "mimetype": "text/x-python",
   "name": "python",
   "nbconvert_exporter": "python",
   "pygments_lexer": "ipython3",
   "version": "3.9.7"
  }
 },
 "nbformat": 4,
 "nbformat_minor": 5
}
